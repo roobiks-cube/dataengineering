{
 "cells": [
  {
   "cell_type": "code",
   "execution_count": 1,
   "id": "f40ed66d",
   "metadata": {},
   "outputs": [
    {
     "name": "stdout",
     "output_type": "stream",
     "text": [
      "Starting Spark application\n"
     ]
    },
    {
     "data": {
      "text/html": [
       "<table>\n",
       "<tr><th>ID</th><th>YARN Application ID</th><th>Kind</th><th>State</th><th>Spark UI</th><th>Driver log</th><th>User</th><th>Current session?</th></tr><tr><td>0</td><td>application_1750422172913_0001</td><td>pyspark</td><td>idle</td><td><a target=\"_blank\" href=\"http://ip-172-31-29-129.eu-west-3.compute.internal:20888/proxy/application_1750422172913_0001/\">Link</a></td><td><a target=\"_blank\" href=\"http://ip-172-31-23-141.eu-west-3.compute.internal:8042/node/containerlogs/container_1750422172913_0001_01_000001/livy\">Link</a></td><td>None</td><td>✔</td></tr></table>"
      ],
      "text/plain": [
       "<IPython.core.display.HTML object>"
      ]
     },
     "metadata": {},
     "output_type": "display_data"
    },
    {
     "data": {
      "application/vnd.jupyter.widget-view+json": {
       "model_id": "",
       "version_major": 2,
       "version_minor": 0
      },
      "text/plain": [
       "FloatProgress(value=0.0, bar_style='info', description='Progress:', layout=Layout(height='25px', width='50%'),…"
      ]
     },
     "metadata": {},
     "output_type": "display_data"
    },
    {
     "name": "stdout",
     "output_type": "stream",
     "text": [
      "SparkSession available as 'spark'.\n"
     ]
    },
    {
     "data": {
      "application/vnd.jupyter.widget-view+json": {
       "model_id": "",
       "version_major": 2,
       "version_minor": 0
      },
      "text/plain": [
       "FloatProgress(value=0.0, bar_style='info', description='Progress:', layout=Layout(height='25px', width='50%'),…"
      ]
     },
     "metadata": {},
     "output_type": "display_data"
    }
   ],
   "source": [
    "from pyspark.sql import SparkSession\n",
    "from pyspark.sql.functions import to_date"
   ]
  },
  {
   "cell_type": "code",
   "execution_count": 2,
   "id": "4fa8e4d5",
   "metadata": {},
   "outputs": [
    {
     "data": {
      "application/vnd.jupyter.widget-view+json": {
       "model_id": "",
       "version_major": 2,
       "version_minor": 0
      },
      "text/plain": [
       "FloatProgress(value=0.0, bar_style='info', description='Progress:', layout=Layout(height='25px', width='50%'),…"
      ]
     },
     "metadata": {},
     "output_type": "display_data"
    }
   ],
   "source": [
    "spark = SparkSession.builder \\\n",
    "    .appName(\"App\") \\\n",
    "    .master(\"spark://172.31.29.129:7077\") \\\n",
    "    .config(\"spark.driver.memory\", \"4g\") \\\n",
    "    .config(\"spark.executor.memory\", \"2g\") \\\n",
    "    .config(\"spark.executor.cores\", \"3\") \\\n",
    "    .config(\"spark.executor.instances\", \"4\") \\\n",
    "    .config(\"spark.sql.shuffle.partitions\", \"100\") \\\n",
    "    .getOrCreate()\n",
    "\n",
    "spark.conf.set(\"spark.sql.files.ignoreCorruptFiles\", \"true\")\n",
    "spark.conf.set(\"spark.sql.files.ignoreMissingFiles\", \"true\")# total across executors"
   ]
  },
  {
   "cell_type": "code",
   "execution_count": 3,
   "id": "ca120f91",
   "metadata": {},
   "outputs": [
    {
     "data": {
      "application/vnd.jupyter.widget-view+json": {
       "model_id": "",
       "version_major": 2,
       "version_minor": 0
      },
      "text/plain": [
       "FloatProgress(value=0.0, bar_style='info', description='Progress:', layout=Layout(height='25px', width='50%'),…"
      ]
     },
     "metadata": {},
     "output_type": "display_data"
    }
   ],
   "source": [
    "df = spark.read.option(\"header\", \"true\").option(\"delimiter\", \"\\t\").option(\"inferSchema\", \"true\").csv(\"s3a://bucket25db/file.csv\", header=True)"
   ]
  },
  {
   "cell_type": "code",
   "execution_count": 7,
   "id": "66d58426",
   "metadata": {},
   "outputs": [
    {
     "data": {
      "application/vnd.jupyter.widget-view+json": {
       "model_id": "",
       "version_major": 2,
       "version_minor": 0
      },
      "text/plain": [
       "FloatProgress(value=0.0, bar_style='info', description='Progress:', layout=Layout(height='25px', width='50%'),…"
      ]
     },
     "metadata": {},
     "output_type": "display_data"
    }
   ],
   "source": [
    "df.write.mode(\"overwrite\").parquet(\"hdfs:///user/hadoop/data\")"
   ]
  },
  {
   "cell_type": "code",
   "execution_count": null,
   "id": "9a3512c9",
   "metadata": {},
   "outputs": [],
   "source": [
    "dfr = spark.read.parquet(\"hdfs:///user/hadoop/data\")"
   ]
  },
  {
   "cell_type": "markdown",
   "id": "ce3d045a",
   "metadata": {},
   "source": [
    "## Von s3 lesen"
   ]
  },
  {
   "cell_type": "code",
   "execution_count": 3,
   "id": "ee3227ed",
   "metadata": {},
   "outputs": [
    {
     "data": {
      "application/vnd.jupyter.widget-view+json": {
       "model_id": "",
       "version_major": 2,
       "version_minor": 0
      },
      "text/plain": [
       "FloatProgress(value=0.0, bar_style='info', description='Progress:', layout=Layout(height='25px', width='50%'),…"
      ]
     },
     "metadata": {},
     "output_type": "display_data"
    },
    {
     "name": "stdout",
     "output_type": "stream",
     "text": [
      "Zeit f?r die Ausf?hrung der Zelle: 4.98 seconds"
     ]
    }
   ],
   "source": [
    "import math\n",
    "import time\n",
    "\n",
    "start_all = time.time()\n",
    "for i in range(10):\n",
    "    dfrh= spark.read.parquet(\"s3a://bucket25db/parquet\")\n",
    "end_all = time.time() \n",
    "\n",
    "print(f\"Zeit für die Ausführung der Zelle: {end_all - start_all:.2f} seconds\")"
   ]
  },
  {
   "cell_type": "markdown",
   "id": "2b5f31a9",
   "metadata": {},
   "source": [
    "## Von hdfs lesen"
   ]
  },
  {
   "cell_type": "markdown",
   "id": "d19e7d9b-0e6d-4269-9057-7cf2a2cee7d9",
   "metadata": {},
   "source": [
    "10 Wiederholungen"
   ]
  },
  {
   "cell_type": "code",
   "execution_count": 5,
   "id": "6fa0b82d",
   "metadata": {},
   "outputs": [
    {
     "data": {
      "application/vnd.jupyter.widget-view+json": {
       "model_id": "",
       "version_major": 2,
       "version_minor": 0
      },
      "text/plain": [
       "FloatProgress(value=0.0, bar_style='info', description='Progress:', layout=Layout(height='25px', width='50%'),…"
      ]
     },
     "metadata": {},
     "output_type": "display_data"
    },
    {
     "name": "stdout",
     "output_type": "stream",
     "text": [
      "Zeit f?r die Ausf?hrung der Zelle: 1.41 seconds"
     ]
    }
   ],
   "source": [
    "import math\n",
    "import time\n",
    "\n",
    "start_all = time.time()\n",
    "for i in range(10):\n",
    "    dfrh= spark.read.parquet(\"hdfs:///user/hadoop/data\")\n",
    "end_all = time.time() \n",
    "\n",
    "print(f\"Zeit für die Ausführung der Zelle: {end_all - start_all:.2f} seconds\")"
   ]
  },
  {
   "cell_type": "markdown",
   "id": "778814b3-5527-490d-88d3-d295a83f9b00",
   "metadata": {},
   "source": [
    "100 Wiederholungen"
   ]
  },
  {
   "cell_type": "code",
   "execution_count": 8,
   "id": "95b67bb6-7a93-4f89-b719-68267851eba0",
   "metadata": {},
   "outputs": [
    {
     "data": {
      "application/vnd.jupyter.widget-view+json": {
       "model_id": "",
       "version_major": 2,
       "version_minor": 0
      },
      "text/plain": [
       "FloatProgress(value=0.0, bar_style='info', description='Progress:', layout=Layout(height='25px', width='50%'),…"
      ]
     },
     "metadata": {},
     "output_type": "display_data"
    },
    {
     "name": "stdout",
     "output_type": "stream",
     "text": [
      "Zeit f?r die Ausf?hrung der Zelle: 11.81 seconds"
     ]
    }
   ],
   "source": [
    "import math\n",
    "import time\n",
    "\n",
    "start_all = time.time()\n",
    "for i in range(100):\n",
    "    dfrh= spark.read.parquet(\"hdfs:///user/hadoop/data\")\n",
    "end_all = time.time() \n",
    "\n",
    "print(f\"Zeit für die Ausführung der Zelle: {end_all - start_all:.2f} seconds\")"
   ]
  },
  {
   "cell_type": "markdown",
   "id": "73d06c70",
   "metadata": {},
   "source": [
    "## Count testen"
   ]
  },
  {
   "cell_type": "code",
   "execution_count": null,
   "id": "92e5b655",
   "metadata": {},
   "outputs": [],
   "source": [
    "dfrh= spark.read.parquet(\"hdfs:///user/hadoop/data\")"
   ]
  },
  {
   "cell_type": "code",
   "execution_count": 9,
   "id": "520ca32a",
   "metadata": {},
   "outputs": [
    {
     "data": {
      "application/vnd.jupyter.widget-view+json": {
       "model_id": "",
       "version_major": 2,
       "version_minor": 0
      },
      "text/plain": [
       "FloatProgress(value=0.0, bar_style='info', description='Progress:', layout=Layout(height='25px', width='50%'),…"
      ]
     },
     "metadata": {},
     "output_type": "display_data"
    }
   ],
   "source": [
    "dfrh.createOrReplaceTempView(\"my_table\")"
   ]
  },
  {
   "cell_type": "markdown",
   "id": "eb0f9606",
   "metadata": {},
   "source": [
    "Einfacher select und count, ohne Ausgabe"
   ]
  },
  {
   "cell_type": "code",
   "execution_count": 11,
   "id": "25658c67-05eb-4a7f-bb03-38a3fc7f84af",
   "metadata": {},
   "outputs": [
    {
     "data": {
      "application/vnd.jupyter.widget-view+json": {
       "model_id": "",
       "version_major": 2,
       "version_minor": 0
      },
      "text/plain": [
       "FloatProgress(value=0.0, bar_style='info', description='Progress:', layout=Layout(height='25px', width='50%'),…"
      ]
     },
     "metadata": {},
     "output_type": "display_data"
    },
    {
     "name": "stdout",
     "output_type": "stream",
     "text": [
      "Zeit f?r die Ausf?hrung der Zelle: 57.75 seconds"
     ]
    }
   ],
   "source": [
    "import math\n",
    "import time\n",
    "from datetime import datetime\n",
    "\n",
    "\n",
    "start_all = time.time()\n",
    "\n",
    "for i in range(10):\n",
    "    query = f\"\"\"\n",
    "    SELECT gbifID, COUNT(gbifID) AS count\n",
    "    FROM my_table\n",
    "    WHERE gbifID IS NOT NULL\n",
    "    GROUP BY gbifID\n",
    "    ORDER BY count DESC\n",
    "    \"\"\"\n",
    "    spark_df = spark.sql(query)\n",
    "\n",
    "    spark_df.count()\n",
    "\n",
    "    time.sleep(2)\n",
    "\n",
    "end_all = time.time()\n",
    "print(f\"Zeit für die Ausführung der Zelle: {end_all - start_all:.2f} seconds\")"
   ]
  }
 ],
 "metadata": {
  "kernelspec": {
   "display_name": "PySpark",
   "language": "python",
   "name": "pysparkkernel"
  },
  "language_info": {
   "codemirror_mode": {
    "name": "python",
    "version": 3
   },
   "file_extension": ".py",
   "mimetype": "text/x-python",
   "name": "pyspark",
   "pygments_lexer": "python3"
  }
 },
 "nbformat": 4,
 "nbformat_minor": 5
}
